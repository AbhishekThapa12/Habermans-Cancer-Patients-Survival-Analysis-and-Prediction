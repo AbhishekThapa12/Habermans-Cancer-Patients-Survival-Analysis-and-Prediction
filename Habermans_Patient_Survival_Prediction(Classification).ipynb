{
  "nbformat": 4,
  "nbformat_minor": 0,
  "metadata": {
    "colab": {
      "name": "Habermans_Patient_Survival_Prediction(Classification).ipynb",
      "provenance": [],
      "collapsed_sections": [],
      "toc_visible": true
    },
    "kernelspec": {
      "name": "python3",
      "display_name": "Python 3"
    },
    "language_info": {
      "name": "python"
    }
  },
  "cells": [
    {
      "cell_type": "markdown",
      "source": [
        "# **Haberman's Cancer Patient Survival Prediction / Classification :**"
      ],
      "metadata": {
        "id": "AGCR9uwq4Ydv"
      }
    },
    {
      "cell_type": "markdown",
      "source": [
        "**<h3>Real World Problem :</h3>**\n",
        "\n",
        "Given a Patient, Predict whether he/she survives for 5 years or more.\n",
        "\n",
        "or\n",
        "\n",
        "Given a Patient, Classify it survival status based on it's survival chances."
      ],
      "metadata": {
        "id": "o3pNrvr64nPP"
      }
    },
    {
      "cell_type": "markdown",
      "source": [
        "## **Import the Libraries :**"
      ],
      "metadata": {
        "id": "a7XK5fHt6qAt"
      }
    },
    {
      "cell_type": "code",
      "source": [
        "import numpy as np\n",
        "import pandas as pd\n",
        "import seaborn as sns\n",
        "import matplotlib.pyplot as plt\n",
        "\n",
        "#To clear warnings\n",
        "import warnings \n",
        "warnings.filterwarnings(\"ignore\") "
      ],
      "metadata": {
        "id": "aUAZHmg-6xF8"
      },
      "execution_count": null,
      "outputs": []
    },
    {
      "cell_type": "markdown",
      "source": [
        "## **Read the Data :**"
      ],
      "metadata": {
        "id": "NNMeAhaY7Cbj"
      }
    },
    {
      "cell_type": "code",
      "source": [
        "# Read from csv\n",
        "\n",
        "hb = pd.read_csv('/content/haberman.csv')\n",
        "\n",
        "hb"
      ],
      "metadata": {
        "colab": {
          "base_uri": "https://localhost:8080/",
          "height": 424
        },
        "id": "y00f1-II7SsA",
        "outputId": "713ccdcd-bb8e-4425-e831-4ad737db9d72"
      },
      "execution_count": null,
      "outputs": [
        {
          "output_type": "execute_result",
          "data": {
            "text/html": [
              "\n",
              "  <div id=\"df-a6174ca8-e72b-4646-b470-60bbdc639ee8\">\n",
              "    <div class=\"colab-df-container\">\n",
              "      <div>\n",
              "<style scoped>\n",
              "    .dataframe tbody tr th:only-of-type {\n",
              "        vertical-align: middle;\n",
              "    }\n",
              "\n",
              "    .dataframe tbody tr th {\n",
              "        vertical-align: top;\n",
              "    }\n",
              "\n",
              "    .dataframe thead th {\n",
              "        text-align: right;\n",
              "    }\n",
              "</style>\n",
              "<table border=\"1\" class=\"dataframe\">\n",
              "  <thead>\n",
              "    <tr style=\"text-align: right;\">\n",
              "      <th></th>\n",
              "      <th>age</th>\n",
              "      <th>year</th>\n",
              "      <th>nodes</th>\n",
              "      <th>status</th>\n",
              "    </tr>\n",
              "  </thead>\n",
              "  <tbody>\n",
              "    <tr>\n",
              "      <th>0</th>\n",
              "      <td>30</td>\n",
              "      <td>64</td>\n",
              "      <td>1</td>\n",
              "      <td>1</td>\n",
              "    </tr>\n",
              "    <tr>\n",
              "      <th>1</th>\n",
              "      <td>30</td>\n",
              "      <td>62</td>\n",
              "      <td>3</td>\n",
              "      <td>1</td>\n",
              "    </tr>\n",
              "    <tr>\n",
              "      <th>2</th>\n",
              "      <td>30</td>\n",
              "      <td>65</td>\n",
              "      <td>0</td>\n",
              "      <td>1</td>\n",
              "    </tr>\n",
              "    <tr>\n",
              "      <th>3</th>\n",
              "      <td>31</td>\n",
              "      <td>59</td>\n",
              "      <td>2</td>\n",
              "      <td>1</td>\n",
              "    </tr>\n",
              "    <tr>\n",
              "      <th>4</th>\n",
              "      <td>31</td>\n",
              "      <td>65</td>\n",
              "      <td>4</td>\n",
              "      <td>1</td>\n",
              "    </tr>\n",
              "    <tr>\n",
              "      <th>...</th>\n",
              "      <td>...</td>\n",
              "      <td>...</td>\n",
              "      <td>...</td>\n",
              "      <td>...</td>\n",
              "    </tr>\n",
              "    <tr>\n",
              "      <th>301</th>\n",
              "      <td>75</td>\n",
              "      <td>62</td>\n",
              "      <td>1</td>\n",
              "      <td>1</td>\n",
              "    </tr>\n",
              "    <tr>\n",
              "      <th>302</th>\n",
              "      <td>76</td>\n",
              "      <td>67</td>\n",
              "      <td>0</td>\n",
              "      <td>1</td>\n",
              "    </tr>\n",
              "    <tr>\n",
              "      <th>303</th>\n",
              "      <td>77</td>\n",
              "      <td>65</td>\n",
              "      <td>3</td>\n",
              "      <td>1</td>\n",
              "    </tr>\n",
              "    <tr>\n",
              "      <th>304</th>\n",
              "      <td>78</td>\n",
              "      <td>65</td>\n",
              "      <td>1</td>\n",
              "      <td>2</td>\n",
              "    </tr>\n",
              "    <tr>\n",
              "      <th>305</th>\n",
              "      <td>83</td>\n",
              "      <td>58</td>\n",
              "      <td>2</td>\n",
              "      <td>2</td>\n",
              "    </tr>\n",
              "  </tbody>\n",
              "</table>\n",
              "<p>306 rows × 4 columns</p>\n",
              "</div>\n",
              "      <button class=\"colab-df-convert\" onclick=\"convertToInteractive('df-a6174ca8-e72b-4646-b470-60bbdc639ee8')\"\n",
              "              title=\"Convert this dataframe to an interactive table.\"\n",
              "              style=\"display:none;\">\n",
              "        \n",
              "  <svg xmlns=\"http://www.w3.org/2000/svg\" height=\"24px\"viewBox=\"0 0 24 24\"\n",
              "       width=\"24px\">\n",
              "    <path d=\"M0 0h24v24H0V0z\" fill=\"none\"/>\n",
              "    <path d=\"M18.56 5.44l.94 2.06.94-2.06 2.06-.94-2.06-.94-.94-2.06-.94 2.06-2.06.94zm-11 1L8.5 8.5l.94-2.06 2.06-.94-2.06-.94L8.5 2.5l-.94 2.06-2.06.94zm10 10l.94 2.06.94-2.06 2.06-.94-2.06-.94-.94-2.06-.94 2.06-2.06.94z\"/><path d=\"M17.41 7.96l-1.37-1.37c-.4-.4-.92-.59-1.43-.59-.52 0-1.04.2-1.43.59L10.3 9.45l-7.72 7.72c-.78.78-.78 2.05 0 2.83L4 21.41c.39.39.9.59 1.41.59.51 0 1.02-.2 1.41-.59l7.78-7.78 2.81-2.81c.8-.78.8-2.07 0-2.86zM5.41 20L4 18.59l7.72-7.72 1.47 1.35L5.41 20z\"/>\n",
              "  </svg>\n",
              "      </button>\n",
              "      \n",
              "  <style>\n",
              "    .colab-df-container {\n",
              "      display:flex;\n",
              "      flex-wrap:wrap;\n",
              "      gap: 12px;\n",
              "    }\n",
              "\n",
              "    .colab-df-convert {\n",
              "      background-color: #E8F0FE;\n",
              "      border: none;\n",
              "      border-radius: 50%;\n",
              "      cursor: pointer;\n",
              "      display: none;\n",
              "      fill: #1967D2;\n",
              "      height: 32px;\n",
              "      padding: 0 0 0 0;\n",
              "      width: 32px;\n",
              "    }\n",
              "\n",
              "    .colab-df-convert:hover {\n",
              "      background-color: #E2EBFA;\n",
              "      box-shadow: 0px 1px 2px rgba(60, 64, 67, 0.3), 0px 1px 3px 1px rgba(60, 64, 67, 0.15);\n",
              "      fill: #174EA6;\n",
              "    }\n",
              "\n",
              "    [theme=dark] .colab-df-convert {\n",
              "      background-color: #3B4455;\n",
              "      fill: #D2E3FC;\n",
              "    }\n",
              "\n",
              "    [theme=dark] .colab-df-convert:hover {\n",
              "      background-color: #434B5C;\n",
              "      box-shadow: 0px 1px 3px 1px rgba(0, 0, 0, 0.15);\n",
              "      filter: drop-shadow(0px 1px 2px rgba(0, 0, 0, 0.3));\n",
              "      fill: #FFFFFF;\n",
              "    }\n",
              "  </style>\n",
              "\n",
              "      <script>\n",
              "        const buttonEl =\n",
              "          document.querySelector('#df-a6174ca8-e72b-4646-b470-60bbdc639ee8 button.colab-df-convert');\n",
              "        buttonEl.style.display =\n",
              "          google.colab.kernel.accessAllowed ? 'block' : 'none';\n",
              "\n",
              "        async function convertToInteractive(key) {\n",
              "          const element = document.querySelector('#df-a6174ca8-e72b-4646-b470-60bbdc639ee8');\n",
              "          const dataTable =\n",
              "            await google.colab.kernel.invokeFunction('convertToInteractive',\n",
              "                                                     [key], {});\n",
              "          if (!dataTable) return;\n",
              "\n",
              "          const docLinkHtml = 'Like what you see? Visit the ' +\n",
              "            '<a target=\"_blank\" href=https://colab.research.google.com/notebooks/data_table.ipynb>data table notebook</a>'\n",
              "            + ' to learn more about interactive tables.';\n",
              "          element.innerHTML = '';\n",
              "          dataTable['output_type'] = 'display_data';\n",
              "          await google.colab.output.renderOutput(dataTable, element);\n",
              "          const docLink = document.createElement('div');\n",
              "          docLink.innerHTML = docLinkHtml;\n",
              "          element.appendChild(docLink);\n",
              "        }\n",
              "      </script>\n",
              "    </div>\n",
              "  </div>\n",
              "  "
            ],
            "text/plain": [
              "     age  year  nodes  status\n",
              "0     30    64      1       1\n",
              "1     30    62      3       1\n",
              "2     30    65      0       1\n",
              "3     31    59      2       1\n",
              "4     31    65      4       1\n",
              "..   ...   ...    ...     ...\n",
              "301   75    62      1       1\n",
              "302   76    67      0       1\n",
              "303   77    65      3       1\n",
              "304   78    65      1       2\n",
              "305   83    58      2       2\n",
              "\n",
              "[306 rows x 4 columns]"
            ]
          },
          "metadata": {},
          "execution_count": 2
        }
      ]
    },
    {
      "cell_type": "markdown",
      "source": [
        "## **Class Distribution :**"
      ],
      "metadata": {
        "id": "PuOmiYxQ7wgq"
      }
    },
    {
      "cell_type": "code",
      "source": [
        "sns.countplot(x='status',data=hb)"
      ],
      "metadata": {
        "colab": {
          "base_uri": "https://localhost:8080/",
          "height": 297
        },
        "id": "_x4maKdW738-",
        "outputId": "cef40420-3448-4117-88e3-75ac542b322d"
      },
      "execution_count": null,
      "outputs": [
        {
          "output_type": "execute_result",
          "data": {
            "text/plain": [
              "<matplotlib.axes._subplots.AxesSubplot at 0x7fb7401561d0>"
            ]
          },
          "metadata": {},
          "execution_count": 3
        },
        {
          "output_type": "display_data",
          "data": {
            "image/png": "[encoded data removed]",
            "text/plain": [
              "<Figure size 432x288 with 1 Axes>"
            ]
          },
          "metadata": {
            "needs_background": "light"
          }
        }
      ]
    },
    {
      "cell_type": "markdown",
      "source": [
        "* **Observation :**\n",
        "\n",
        "    * We have a Class Imbalanced Dataset.\n",
        "    * Most of the Patient's survived for 5 years & more."
      ],
      "metadata": {
        "id": "gSzeR9Pt8dUQ"
      }
    },
    {
      "cell_type": "markdown",
      "source": [
        "## **Machine Learning Problem :**"
      ],
      "metadata": {
        "id": "K9aRjI6k9uyN"
      }
    },
    {
      "cell_type": "markdown",
      "source": [
        "**Problem :**    Given a Datapoint, Classify the Survival Status\n",
        "\n",
        "  i.e.  1 - Survived for 5 years & more  ;           2 - Died within 5 years\n",
        "\n",
        "\n",
        "**Constraints :**\n",
        "\n",
        "  * Imbalanced Dataset\n",
        "  * Numerical Features"
      ],
      "metadata": {
        "id": "NAm8aL5n9-7t"
      }
    },
    {
      "cell_type": "markdown",
      "source": [
        "## **Train-Test Split :**\n",
        "\n",
        "Train - 70% , Test - 30%"
      ],
      "metadata": {
        "id": "p7x9ov4eF1Jt"
      }
    },
    {
      "cell_type": "code",
      "source": [
        "# Import train_test_split\n",
        "\n",
        "from sklearn.model_selection import train_test_split\n",
        "\n",
        "# Split the Data :\n",
        "\n",
        "hb_train, hb_test = train_test_split(hb, test_size=0.30, random_state=42)"
      ],
      "metadata": {
        "id": "PqUZzurYGDRC"
      },
      "execution_count": null,
      "outputs": []
    },
    {
      "cell_type": "code",
      "source": [
        "print('Original dataset :',hb.shape)\n",
        "print('Train dataset :',hb_train.shape)\n",
        "print('Test dataset :',hb_test.shape)"
      ],
      "metadata": {
        "colab": {
          "base_uri": "https://localhost:8080/"
        },
        "id": "weYsxtmtGsGY",
        "outputId": "cb7d74b3-0067-4469-eee8-08431c7009ec"
      },
      "execution_count": null,
      "outputs": [
        {
          "output_type": "stream",
          "name": "stdout",
          "text": [
            "Original dataset : (306, 4)\n",
            "Train dataset : (214, 4)\n",
            "Test dataset : (92, 4)\n"
          ]
        }
      ]
    },
    {
      "cell_type": "code",
      "source": [
        "# Input Features :\n",
        "\n",
        "X_train = hb_train.loc[:,['age','year','nodes']]\n",
        "X_test = hb_test.loc[:,['age','year','nodes']]"
      ],
      "metadata": {
        "id": "SORbu8MKHcEl"
      },
      "execution_count": null,
      "outputs": []
    },
    {
      "cell_type": "code",
      "source": [
        "# Target Class Labels :\n",
        "\n",
        "y_train = hb_train.loc[:,['status']] \n",
        "y_test = hb_test.loc[:,['status']]"
      ],
      "metadata": {
        "id": "GFQcK2-9H_4J"
      },
      "execution_count": null,
      "outputs": []
    },
    {
      "cell_type": "markdown",
      "source": [
        "## **Machine Learning Models :**\n",
        "\n",
        "* K-NN (K-Nearest Neighbors) Classifier\n",
        "* Naive Bayes Classifier\n",
        "* Decision Tree Classifier"
      ],
      "metadata": {
        "id": "OJF67o65Ilsg"
      }
    },
    {
      "cell_type": "markdown",
      "source": [
        "**1) K-NN Classifier:**"
      ],
      "metadata": {
        "id": "5aVRdZGpKLte"
      }
    },
    {
      "cell_type": "code",
      "source": [
        "# Import KNN Classifier :\n",
        "\n",
        "from sklearn.neighbors import KNeighborsClassifier\n",
        "\n",
        "# Initialize the KNN Model :\n",
        "\n",
        "knn = KNeighborsClassifier()\n",
        "\n",
        "# Train the KNN model:\n",
        "\n",
        "knn.fit(X_train,y_train)\n",
        "\n",
        "# Test the Model :\n",
        "\n",
        "yknn_pred = knn.predict(X_test)\n",
        "yknn_pred_prob = knn.predict_proba(X_test)"
      ],
      "metadata": {
        "id": "KqJrJY3bKJEV"
      },
      "execution_count": null,
      "outputs": []
    },
    {
      "cell_type": "code",
      "source": [
        "yknn_pred"
      ],
      "metadata": {
        "colab": {
          "base_uri": "https://localhost:8080/"
        },
        "id": "zG49HW1FLWCC",
        "outputId": "035ef243-65dc-4689-9c03-925fe08418c1"
      },
      "execution_count": null,
      "outputs": [
        {
          "output_type": "execute_result",
          "data": {
            "text/plain": [
              "array([1, 1, 1, 1, 1, 1, 1, 1, 2, 1, 1, 1, 1, 2, 1, 1, 1, 1, 2, 1, 1, 1,\n",
              "       1, 1, 1, 1, 1, 1, 1, 1, 1, 2, 1, 1, 1, 1, 1, 1, 2, 1, 2, 1, 1, 1,\n",
              "       1, 1, 1, 1, 1, 1, 2, 1, 1, 1, 1, 2, 1, 1, 1, 1, 1, 1, 1, 2, 2, 1,\n",
              "       1, 1, 1, 2, 1, 1, 2, 1, 1, 1, 1, 2, 1, 1, 1, 1, 1, 1, 1, 1, 1, 1,\n",
              "       1, 1, 1, 2])"
            ]
          },
          "metadata": {},
          "execution_count": 12
        }
      ]
    },
    {
      "cell_type": "markdown",
      "source": [
        "**2) Naive Bayes Classifier :**"
      ],
      "metadata": {
        "id": "svLDjyroMq6m"
      }
    },
    {
      "cell_type": "code",
      "source": [
        "# Import the Naove Bsyes Classofer :\n",
        "\n",
        "from sklearn.naive_bayes import GaussianNB\n",
        "\n",
        "# Initialize the Naive Bayes Model :\n",
        "\n",
        "naivebayes = GaussianNB()           \n",
        "\n",
        "# Train the Model :\n",
        "\n",
        "naivebayes.fit(X_train,y_train)\n",
        "\n",
        "#  Test the Model :\n",
        "\n",
        "ynb_pred = naivebayes.predict(X_test)"
      ],
      "metadata": {
        "id": "SNIoCP5BN1e7"
      },
      "execution_count": null,
      "outputs": []
    },
    {
      "cell_type": "code",
      "source": [
        "ynb_pred"
      ],
      "metadata": {
        "colab": {
          "base_uri": "https://localhost:8080/"
        },
        "id": "dfV47Z9u5dOE",
        "outputId": "e08ea71f-6f32-4377-ddcf-28916c43a209"
      },
      "execution_count": null,
      "outputs": [
        {
          "output_type": "execute_result",
          "data": {
            "text/plain": [
              "array([1, 1, 1, 1, 1, 2, 1, 1, 1, 1, 1, 1, 1, 2, 1, 1, 1, 1, 1, 1, 1, 1,\n",
              "       1, 1, 1, 1, 1, 1, 1, 1, 1, 2, 1, 1, 1, 1, 1, 1, 2, 1, 2, 1, 2, 1,\n",
              "       1, 1, 1, 1, 1, 1, 2, 1, 1, 1, 1, 2, 1, 1, 1, 1, 1, 1, 1, 1, 2, 1,\n",
              "       2, 1, 1, 1, 1, 2, 2, 1, 1, 1, 1, 2, 1, 1, 1, 1, 1, 1, 1, 2, 1, 1,\n",
              "       1, 2, 1, 1])"
            ]
          },
          "metadata": {},
          "execution_count": 14
        }
      ]
    },
    {
      "cell_type": "markdown",
      "source": [
        "**3) Decision Tree Classifier :**"
      ],
      "metadata": {
        "id": "nfrqI8Qy5s9n"
      }
    },
    {
      "cell_type": "code",
      "source": [
        "# Import the Decision Tree Classifier : \n",
        "\n",
        "from sklearn.tree import DecisionTreeClassifier\n",
        "\n",
        "# Initialize the Classifier :\n",
        "\n",
        "dtree = DecisionTreeClassifier(random_state=0)\n",
        "\n",
        "# Train our Classifier :\n",
        "\n",
        "dtree.fit(X_train,y_train)\n",
        "\n",
        "# Test the Model :\n",
        "\n",
        "ydtree_pred = dtree.predict(X_test)"
      ],
      "metadata": {
        "id": "fTm3ar2u5sTm"
      },
      "execution_count": null,
      "outputs": []
    },
    {
      "cell_type": "code",
      "source": [
        "ydtree_pred"
      ],
      "metadata": {
        "colab": {
          "base_uri": "https://localhost:8080/"
        },
        "id": "GGzDDu5C6_o4",
        "outputId": "89a3d975-9548-4364-ede7-bb704e1f522b"
      },
      "execution_count": null,
      "outputs": [
        {
          "output_type": "execute_result",
          "data": {
            "text/plain": [
              "array([1, 1, 1, 1, 1, 2, 1, 1, 2, 2, 2, 2, 1, 2, 1, 1, 1, 1, 1, 1, 1, 1,\n",
              "       1, 1, 2, 1, 1, 1, 1, 1, 1, 2, 1, 1, 1, 1, 1, 1, 1, 1, 1, 1, 1, 1,\n",
              "       1, 1, 1, 1, 1, 1, 1, 2, 1, 1, 1, 2, 1, 1, 2, 1, 1, 1, 2, 2, 2, 1,\n",
              "       2, 1, 1, 2, 2, 2, 2, 1, 1, 1, 1, 1, 1, 1, 1, 1, 1, 2, 1, 1, 1, 1,\n",
              "       2, 1, 1, 2])"
            ]
          },
          "metadata": {},
          "execution_count": 16
        }
      ]
    },
    {
      "cell_type": "markdown",
      "source": [
        "## **Performance Metrics :**\n",
        "\n",
        "* Accuracy\n",
        "* F1-Score\n",
        "* Confusion Matrix"
      ],
      "metadata": {
        "id": "eoR4u0Fz7oO8"
      }
    },
    {
      "cell_type": "code",
      "source": [
        "# Import the Metrics :\n",
        "\n",
        "from sklearn.metrics import accuracy_score, f1_score, plot_confusion_matrix"
      ],
      "metadata": {
        "id": "xrwI0hAJ9Ds3"
      },
      "execution_count": null,
      "outputs": []
    },
    {
      "cell_type": "markdown",
      "source": [
        "**1) Accuracy :**"
      ],
      "metadata": {
        "id": "9fFAFRHy75rX"
      }
    },
    {
      "cell_type": "code",
      "source": [
        "print('Accuracy Scores : \\n')\n",
        "print(\"K-NN : \",accuracy_score(y_test,yknn_pred))\n",
        "print(\"Naive Bayes  : \",accuracy_score(y_test,ynb_pred))\n",
        "print(\"Decision Tree : \",accuracy_score(y_test,ydtree_pred))"
      ],
      "metadata": {
        "colab": {
          "base_uri": "https://localhost:8080/"
        },
        "id": "mu5o2uIY9Bic",
        "outputId": "faa36779-b88e-4d99-d88f-b8fdeb626a5d"
      },
      "execution_count": null,
      "outputs": [
        {
          "output_type": "stream",
          "name": "stdout",
          "text": [
            "Accuracy Scores : \n",
            "\n",
            "K-NN :  0.782608695652174\n",
            "Naive Bayes  :  0.7282608695652174\n",
            "Decision Tree :  0.6304347826086957\n"
          ]
        }
      ]
    },
    {
      "cell_type": "markdown",
      "source": [
        "**2) F1 Score :**"
      ],
      "metadata": {
        "id": "Q5npYTrE_tP6"
      }
    },
    {
      "cell_type": "code",
      "source": [
        "print('F1 Scores : \\n')\n",
        "print(\"K-NN : \",f1_score(y_test,yknn_pred))\n",
        "print(\"Naive Bayes  : \",f1_score(y_test,ynb_pred))\n",
        "print(\"Decision Tree : \",f1_score(y_test,ydtree_pred))"
      ],
      "metadata": {
        "colab": {
          "base_uri": "https://localhost:8080/"
        },
        "id": "Wre0T0Jf_uhW",
        "outputId": "c027cb5c-1de7-4526-bad7-0c602d201013"
      },
      "execution_count": null,
      "outputs": [
        {
          "output_type": "stream",
          "name": "stdout",
          "text": [
            "F1 Scores : \n",
            "\n",
            "K-NN :  0.8611111111111112\n",
            "Naive Bayes  :  0.8251748251748252\n",
            "Decision Tree :  0.75\n"
          ]
        }
      ]
    },
    {
      "cell_type": "markdown",
      "source": [
        "**3) Confusion Matrix :**"
      ],
      "metadata": {
        "id": "nDKQHqn0AQOQ"
      }
    },
    {
      "cell_type": "code",
      "source": [
        "# K-NN :\n",
        "\n",
        "plot_confusion_matrix(knn, X_test, y_test)\n",
        "plt.show()"
      ],
      "metadata": {
        "colab": {
          "base_uri": "https://localhost:8080/",
          "height": 279
        },
        "id": "Ty70dcOgAVs2",
        "outputId": "d19455ff-ccd1-4132-ec00-73fc2cd63302"
      },
      "execution_count": null,
      "outputs": [
        {
          "output_type": "display_data",
          "data": {
            "image/png": "[encoded data removed]",
            "text/plain": [
              "<Figure size 432x288 with 2 Axes>"
            ]
          },
          "metadata": {
            "needs_background": "light"
          }
        }
      ]
    },
    {
      "cell_type": "code",
      "source": [
        "# Naive Bayes :\n",
        "\n",
        "plot_confusion_matrix(naivebayes, X_test, y_test)\n",
        "plt.show()"
      ],
      "metadata": {
        "colab": {
          "base_uri": "https://localhost:8080/",
          "height": 279
        },
        "id": "APoMZbOXB3FH",
        "outputId": "931635dc-5409-4629-fd7a-a1a08b3952d0"
      },
      "execution_count": null,
      "outputs": [
        {
          "output_type": "display_data",
          "data": {
            "image/png": "[encoded data removed]",
            "text/plain": [
              "<Figure size 432x288 with 2 Axes>"
            ]
          },
          "metadata": {
            "needs_background": "light"
          }
        }
      ]
    },
    {
      "cell_type": "code",
      "source": [
        "# Decision Tree :\n",
        "\n",
        "plot_confusion_matrix(dtree, X_test, y_test)\n",
        "plt.show()"
      ],
      "metadata": {
        "colab": {
          "base_uri": "https://localhost:8080/",
          "height": 279
        },
        "id": "pNuIsT8SB_bu",
        "outputId": "4a0f7a43-f658-44d1-e9f2-de52b2f74300"
      },
      "execution_count": null,
      "outputs": [
        {
          "output_type": "display_data",
          "data": {
            "image/png": "[encoded data removed]",
            "text/plain": [
              "<Figure size 432x288 with 2 Axes>"
            ]
          },
          "metadata": {
            "needs_background": "light"
          }
        }
      ]
    }
  ]
}